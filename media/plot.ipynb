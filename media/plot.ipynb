{
 "cells": [
  {
   "cell_type": "code",
   "execution_count": 10,
   "metadata": {},
   "outputs": [],
   "source": [
    "using Plots\n",
    "using DelimitedFiles"
   ]
  },
  {
   "cell_type": "code",
   "execution_count": 27,
   "metadata": {},
   "outputs": [],
   "source": [
    "disc_loss = vec(readdlm(\"discriminator_loss.txt\"))\n",
    "gen_loss = vec(readdlm(\"generator_loss.txt\"))\n",
    "epochs = 1:Base.length(disc_loss)\n",
    "\n",
    "plot(epochs, disc_loss, lw = 2, label = \"Discriminator\", xlabel = \"Iterations (x 1000)\", ylabel = \"Loss\")\n",
    "plot!(epochs, gen_loss, lw = 2, label = \"Generator\")\n",
    "\n",
    "savefig(\"loss.png\")"
   ]
  }
 ],
 "metadata": {
  "kernelspec": {
   "display_name": "Julia 1.2.0",
   "language": "julia",
   "name": "julia-1.2"
  },
  "language_info": {
   "file_extension": ".jl",
   "mimetype": "application/julia",
   "name": "julia",
   "version": "1.2.0"
  }
 },
 "nbformat": 4,
 "nbformat_minor": 2
}
